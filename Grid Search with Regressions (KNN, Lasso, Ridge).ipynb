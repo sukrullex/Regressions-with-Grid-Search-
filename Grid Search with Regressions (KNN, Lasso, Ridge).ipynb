{
 "cells": [
  {
   "cell_type": "markdown",
   "metadata": {},
   "source": [
    "# KNN Regression"
   ]
  },
  {
   "cell_type": "code",
   "execution_count": null,
   "metadata": {},
   "outputs": [],
   "source": [
    "from sklearn.model_selection import GridSearchCV\n",
    "from sklearn import neighbors\n",
    "params = {'n_neighbors':[2,3,4,5,6,7,8,9,10,11,12]}\n",
    "\n",
    "knn = neighbors.KNeighborsRegressor()\n",
    "\n",
    "model = GridSearchCV(knn, params, cv=5)\n",
    "model.fit(X,y)\n",
    "model.best_params_\n",
    "\n",
    "knn_predictions = model.predict(X_test)\n",
    "mean_squared_error(y_kartest, knn_predictions)"
   ]
  },
  {
   "cell_type": "markdown",
   "metadata": {},
   "source": [
    "# Lasso Regression"
   ]
  },
  {
   "cell_type": "code",
   "execution_count": null,
   "metadata": {},
   "outputs": [],
   "source": [
    "alphas = np.array([1,0.1,0.01,0.001,0.0001,0])\n",
    "fit_interceptOptions = ([True, False])\n",
    "model2 = Lasso()\n",
    "grid2 = GridSearchCV(estimator=model2, param_grid=dict(alpha=alphas, \n",
    "                                                     fit_intercept=fit_interceptOptions))\n",
    "grid2.fit(X,y)\n",
    "lasso_predictions = grid2.predict(X_test)\n",
    "mean_squared_error(y_test, lasso_predictions)"
   ]
  },
  {
   "cell_type": "markdown",
   "metadata": {},
   "source": [
    "# Ridge Regression"
   ]
  },
  {
   "cell_type": "code",
   "execution_count": null,
   "metadata": {},
   "outputs": [],
   "source": [
    "from sklearn.model_selection import GridSearchCV\n",
    "from sklearn.linear_model import Ridge\n",
    "\n",
    "alphas = np.array([1,0.1,0.01,0.001,0.0001,0])\n",
    "fit_interceptOptions = ([True, False])\n",
    "solverOptions = (['svd', 'cholesky', 'sparse_cg', 'sag'])\n",
    "model = Ridge()\n",
    "grid = GridSearchCV(estimator=model, param_grid=dict(alpha=alphas, \n",
    "                                                     fit_intercept=fit_interceptOptions, solver=solverOptions))\n",
    "grid.fit(X,y)\n",
    "\n",
    "ridge_predictions = grid.predict(X_test)\n",
    "mean_squared_error(y_test, ridge_predictions)"
   ]
  }
 ],
 "metadata": {
  "kernelspec": {
   "display_name": "Python 3",
   "language": "python",
   "name": "python3"
  },
  "language_info": {
   "codemirror_mode": {
    "name": "ipython",
    "version": 3
   },
   "file_extension": ".py",
   "mimetype": "text/x-python",
   "name": "python",
   "nbconvert_exporter": "python",
   "pygments_lexer": "ipython3",
   "version": "3.6.5"
  }
 },
 "nbformat": 4,
 "nbformat_minor": 2
}
